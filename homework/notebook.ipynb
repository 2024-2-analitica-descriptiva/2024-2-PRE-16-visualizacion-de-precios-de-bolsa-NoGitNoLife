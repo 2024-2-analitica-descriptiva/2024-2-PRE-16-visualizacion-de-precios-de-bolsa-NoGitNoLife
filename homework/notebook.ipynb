{
 "cells": [
  {
   "cell_type": "code",
   "execution_count": null,
   "metadata": {
    "vscode": {
     "languageId": "plaintext"
    }
   },
   "outputs": [],
   "source": [
    "# Creación del vector de fechas\n",
    "fechas = [\n",
    "    \"{:4d}{:02d}\".format(year, month)\n",
    "    for year in range(1995, 2022)\n",
    "    for month in range(1, 13)\n",
    "]\n",
    "fechas = [fecha for fecha in fechas if fecha >= \"199507\" and fecha <= \"202104\"]\n",
    "fechas[0], fechas[-1], len(fechas)"
   ]
  },
  {
   "cell_type": "code",
   "execution_count": null,
   "metadata": {
    "vscode": {
     "languageId": "plaintext"
    }
   },
   "outputs": [],
   "source": [
    "# Lectura de los archivos\n",
    "import pandas as pd\n",
    "\n",
    "url = (\n",
    "    \"https://raw.githubusercontent.com/\"\n",
    "    \"jdvelasq/datalabs/master/datasets/precio_bolsa_nacional/csv/{}.csv\"\n",
    ")\n",
    "\n",
    "org_df = pd.concat([pd.read_csv(url.format(fecha)) for fecha in fechas])\n",
    "org_df.head()"
   ]
  },
  {
   "cell_type": "code",
   "execution_count": null,
   "metadata": {
    "vscode": {
     "languageId": "plaintext"
    }
   },
   "outputs": [],
   "source": [
    "# Manipulacion del dataframe\n",
    "melted_df = pd.melt(\n",
    "    org_df,\n",
    "    id_vars=\"Fecha\",\n",
    "    var_name=\"Hora\",\n",
    "    value_name=\"Precio\",\n",
    ")\n",
    "melted_df = melted_df.sort_values([\"Fecha\", \"Hora\"]).reset_index(drop=True)\n",
    "melted_df.head()"
   ]
  },
  {
   "cell_type": "code",
   "execution_count": null,
   "metadata": {
    "vscode": {
     "languageId": "plaintext"
    }
   },
   "outputs": [],
   "source": [
    "# Verificación de los tipos para buscar problemas\n",
    "melted_df.dtypes"
   ]
  },
  {
   "cell_type": "code",
   "execution_count": null,
   "metadata": {
    "vscode": {
     "languageId": "plaintext"
    }
   },
   "outputs": [],
   "source": [
    "# Registros con precios NA\n",
    "melted_df.Precio.isna().sum()"
   ]
  },
  {
   "cell_type": "code",
   "execution_count": null,
   "metadata": {
    "vscode": {
     "languageId": "plaintext"
    }
   },
   "outputs": [],
   "source": [
    "# Tamaño original del dataframe\n",
    "melted_df.shape"
   ]
  },
  {
   "cell_type": "code",
   "execution_count": null,
   "metadata": {
    "vscode": {
     "languageId": "plaintext"
    }
   },
   "outputs": [],
   "source": [
    "# Eliminación de NA y tamaño final del dataframe\n",
    "melted_df = melted_df.dropna()\n",
    "melted_df.shape"
   ]
  },
  {
   "cell_type": "code",
   "execution_count": null,
   "metadata": {
    "vscode": {
     "languageId": "plaintext"
    }
   },
   "outputs": [],
   "source": [
    "# Búsqueda de registros con str en los precios\n",
    "melted_df[melted_df[\"Precio\"].map(lambda x: isinstance(x, str))].sort_values(\"Precio\")"
   ]
  },
  {
   "cell_type": "code",
   "execution_count": null,
   "metadata": {
    "vscode": {
     "languageId": "plaintext"
    }
   },
   "outputs": [],
   "source": [
    "# Se elimina el '.' de los miles\n",
    "melted_df[\"Precio\"] = melted_df[\"Precio\"].map(\n",
    "    lambda x: x.replace(\".\", \"\") if isinstance(x, str) else x\n",
    ")"
   ]
  },
  {
   "cell_type": "code",
   "execution_count": null,
   "metadata": {
    "vscode": {
     "languageId": "plaintext"
    }
   },
   "outputs": [],
   "source": [
    "# Se reemplaza la ',' por '.'\n",
    "melted_df[\"Precio\"] = melted_df[\"Precio\"].map(\n",
    "    lambda x: float(x.replace(\",\", \".\")) if isinstance(x, str) else x\n",
    ")"
   ]
  },
  {
   "cell_type": "code",
   "execution_count": null,
   "metadata": {
    "vscode": {
     "languageId": "plaintext"
    }
   },
   "outputs": [],
   "source": [
    "# Vefificación\n",
    "melted_df[\"Precio\"][melted_df[\"Precio\"].map(lambda x: isinstance(x, str))].sort_values()"
   ]
  },
  {
   "cell_type": "code",
   "execution_count": null,
   "metadata": {
    "vscode": {
     "languageId": "plaintext"
    }
   },
   "outputs": [],
   "source": [
    "# Revisión de los tipos de datos\n",
    "melted_df.dtypes"
   ]
  },
  {
   "cell_type": "code",
   "execution_count": null,
   "metadata": {
    "vscode": {
     "languageId": "plaintext"
    }
   },
   "outputs": [],
   "source": [
    "# Cálculo de los precios diarios y renombramiento de la columna\n",
    "precios_df = melted_df.groupby([\"Fecha\"]).agg({\"Precio\": \"mean\"})\n",
    "precios_df = precios_df.rename(columns={\"Precio\": \"Precio diario\"})\n",
    "precios_df.head()"
   ]
  },
  {
   "cell_type": "code",
   "execution_count": null,
   "metadata": {
    "vscode": {
     "languageId": "plaintext"
    }
   },
   "outputs": [],
   "source": [
    "# Tranformación del indice a tipo fecha\n",
    "precios_df.index = pd.to_datetime(precios_df.index)"
   ]
  },
  {
   "cell_type": "code",
   "execution_count": null,
   "metadata": {
    "vscode": {
     "languageId": "plaintext"
    }
   },
   "outputs": [],
   "source": [
    "# Cálculo del precio promedio por mes\n",
    "precios_df[\"Precio mensual\"] = precios_df.groupby(\n",
    "    [precios_df.index.year, precios_df.index.month]\n",
    ")[\"Precio diario\"].transform(\"mean\")\n",
    "\n",
    "precios_df.head()"
   ]
  },
  {
   "cell_type": "code",
   "execution_count": null,
   "metadata": {
    "vscode": {
     "languageId": "plaintext"
    }
   },
   "outputs": [],
   "source": [
    "import os\n",
    "import matplotlib.pyplot as plt\n",
    "\n",
    "precios_df.plot(style=[\"gray\", \"k\"], figsize=(8, 3))\n",
    "plt.xticks(rotation=\"vertical\", fontsize=8)\n",
    "plt.yticks(fontsize=8)\n",
    "plt.gca().spines[\"left\"].set_color(\"gray\")\n",
    "plt.gca().spines[\"bottom\"].set_color(\"gray\")\n",
    "plt.gca().spines[\"top\"].set_visible(False)\n",
    "plt.gca().spines[\"right\"].set_visible(False)\n",
    "plt.legend(fontsize=8)\n",
    "\n",
    "if os.path.exists(\"../files/images\") is False:\n",
    "    os.makedirs(\"../files/images\")\n",
    "\n",
    "plt.savefig(\"../files/images/precios.png\", bbox_inches=\"tight\")\n",
    "\n",
    "plt.show()"
   ]
  }
 ],
 "metadata": {
  "language_info": {
   "name": "python"
  }
 },
 "nbformat": 4,
 "nbformat_minor": 2
}
